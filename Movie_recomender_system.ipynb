{
  "nbformat": 4,
  "nbformat_minor": 0,
  "metadata": {
    "colab": {
      "provenance": [],
      "mount_file_id": "1aUvqVPvjnro6zAgC53NlIgD4mMn3Zsqd",
      "authorship_tag": "ABX9TyMrw6E2He1tCm3bsP2H8+Jv",
      "include_colab_link": true
    },
    "kernelspec": {
      "name": "python3",
      "display_name": "Python 3"
    },
    "language_info": {
      "name": "python"
    }
  },
  "cells": [
    {
      "cell_type": "markdown",
      "metadata": {
        "id": "view-in-github",
        "colab_type": "text"
      },
      "source": [
        "<a href=\"https://colab.research.google.com/github/SamudralaAnuhya/Movie-recommender-systems/blob/main/Movie_recomender_system.ipynb\" target=\"_parent\"><img src=\"https://colab.research.google.com/assets/colab-badge.svg\" alt=\"Open In Colab\"/></a>"
      ]
    },
    {
      "cell_type": "code",
      "execution_count": null,
      "metadata": {
        "id": "rozplVJZbYw2"
      },
      "outputs": [],
      "source": [
        "# 𝑛𝑢=443users, and 𝑛𝑚=4778movies.\n",
        "# X(i)-- movies features (i)...genre\n",
        "# W(j)---users (j)....\n",
        "# y(i,j)--actual rating\n",
        "# r(i,j)----if rating there then 1 else 0\n",
        "#b(i,j)--all users"
      ]
    },
    {
      "cell_type": "markdown",
      "source": [
        "#Movie Recommender System (Collabirative filtering)\n",
        "The data set is derived from the [movielens](https://grouplens.org/datasets/movielens/latest/) dataset.\n",
        "\n",
        "\n",
        "Implementing from scratch and using tensor flow\n",
        "\n"
      ],
      "metadata": {
        "id": "muTS2iFSDlos"
      }
    },
    {
      "cell_type": "markdown",
      "source": [
        "<a name=\"2.3\"></a>\n",
        "### 4.1 Collaborative filtering cost function\n",
        "\n",
        "The collaborative filtering cost function is given by\n",
        "$$J({\\mathbf{x}^{(0)},...,\\mathbf{x}^{(n_m-1)},\\mathbf{w}^{(0)},b^{(0)},...,\\mathbf{w}^{(n_u-1)},b^{(n_u-1)}})= \\left[ \\frac{1}{2}\\sum_{(i,j):r(i,j)=1}(\\mathbf{w}^{(j)} \\cdot \\mathbf{x}^{(i)} + b^{(j)} - y^{(i,j)})^2 \\right]\n",
        "+ \\underbrace{\\left[\n",
        "\\frac{\\lambda}{2}\n",
        "\\sum_{j=0}^{n_u-1}\\sum_{k=0}^{n-1}(\\mathbf{w}^{(j)}_k)^2\n",
        "+ \\frac{\\lambda}{2}\\sum_{i=0}^{n_m-1}\\sum_{k=0}^{n-1}(\\mathbf{x}_k^{(i)})^2\n",
        "\\right]}_{regularization}\n",
        "\\tag{1}$$\n",
        "The first summation in (1) is \"for all $i$, $j$ where $r(i,j)$ equals $1$\" and could be written:\n",
        "\n",
        "$$\n",
        "= \\left[ \\frac{1}{2}\\sum_{j=0}^{n_u-1} \\sum_{i=0}^{n_m-1}r(i,j)*(\\mathbf{w}^{(j)} \\cdot \\mathbf{x}^{(i)} + b^{(j)} - y^{(i,j)})^2 \\right]\n",
        "+\\text{regularization}\n",
        "$$\n",
        "\n",
        "You should now write cofiCostFunc (collaborative filtering cost function) to return this cost."
      ],
      "metadata": {
        "id": "G0k-dpk2I5CF"
      }
    },
    {
      "cell_type": "code",
      "source": [
        "import numpy as np\n",
        "import pandas as pd\n",
        "from numpy import loadtxt\n",
        "import tensorflow as tf\n",
        "from tensorflow import keras"
      ],
      "metadata": {
        "id": "mQ05-rXnFBXs"
      },
      "execution_count": 2,
      "outputs": []
    },
    {
      "cell_type": "code",
      "source": [
        "def files_import_XWB():\n",
        "  file = open('/content/drive/MyDrive/Move_recomendation/small_movies_X.csv' , 'rb')   #rb--read binary mode\n",
        "  X = loadtxt(file,delimiter=\",\")\n",
        "\n",
        "  file = open('/content/drive/MyDrive/Move_recomendation/small_movies_W.csv' , 'rb')\n",
        "  W = loadtxt(file,delimiter=\",\")\n",
        "\n",
        "  file = open('/content/drive/MyDrive/Move_recomendation/small_movies_b.csv' , 'rb')\n",
        "  b = loadtxt(file,delimiter=\",\")\n",
        "\n",
        "  b = b.reshape(1,-1)\n",
        "  num_movies , num_features = X.shape\n",
        "  num_users,_ = W.shape\n",
        "  return(X, W, b, num_movies, num_features, num_users)\n",
        "\n",
        "\n",
        "\n",
        "def files_import_ratingYR():   #Y--actual rating , r -- 0 if there is no rating or 1 if rating is there\n",
        "  file = open('/content/drive/MyDrive/Move_recomendation/small_movies_Y.csv','rb')\n",
        "  Y = loadtxt(file,delimiter= \",\")\n",
        "\n",
        "  file = open('/content/drive/MyDrive/Move_recomendation/small_movies_R.csv' ,'rb')\n",
        "  R = loadtxt(file , delimiter=\",\")\n",
        "  return(Y,R)\n",
        "\n",
        "\n"
      ],
      "metadata": {
        "id": "3HQ-PCuaFBZ2"
      },
      "execution_count": 16,
      "outputs": []
    },
    {
      "cell_type": "markdown",
      "source": [
        "from scratch implementation"
      ],
      "metadata": {
        "id": "PYBljH0DNjB_"
      }
    },
    {
      "cell_type": "code",
      "source": [
        "#load data\n",
        "X, W, b, num_movies, num_features, num_users = files_import_XWB()\n",
        "Y,R = files_import_ratingYR()\n",
        "\n",
        "print(\"X\" , X.shape)\n",
        "print(\"W\" , W.shape)\n",
        "print(\"b\" ,b.shape)\n",
        "print(\"Y\" , Y.shape  , \"R\" , R.shape)\n",
        "print(\"num_movies\" , num_movies)\n",
        "print(\"num_users\" , num_users)\n",
        "print(\"num_features\" , num_features)"
      ],
      "metadata": {
        "colab": {
          "base_uri": "https://localhost:8080/"
        },
        "id": "9jDe0ip1J47j",
        "outputId": "5923aec9-75fb-42fa-8fa2-ba9279a95968"
      },
      "execution_count": 21,
      "outputs": [
        {
          "output_type": "stream",
          "name": "stdout",
          "text": [
            "X (4778, 10)\n",
            "W (443, 10)\n",
            "b (1, 443)\n",
            "Y (4778, 443) R (4778, 443)\n",
            "num_movies 4778\n",
            "num_users 443\n",
            "num_features 10\n"
          ]
        }
      ]
    },
    {
      "cell_type": "code",
      "source": [
        "#filtering function is similar to gradient descent (wx+b)+regularization term\n",
        "#here J= (r*(wx+b-y)**2)/2 + lamda/2(w**2+x**2)..cost function\n",
        "\n",
        "def cofi_cost_func (X, W, b, Y, R, lambda_):    #collabirative cost function\n",
        "    J = 0\n",
        "    ### START CODE HERE ###\n",
        "    for j in range(nu):\n",
        "        w = W[j,:]\n",
        "        b_j = b[0,j]\n",
        "        for i in range(nm):\n",
        "            x = X[i,:]\n",
        "            y = Y[i,j]\n",
        "            r = R[i,j]\n",
        "            J += np.square(r * (np.dot(w,x) + b_j - y ) )\n",
        "    J = J/2\n",
        "    J += (lambda_/2) * (np.sum(np.square(W)) + np.sum(np.square(X)))\n",
        "    return J"
      ],
      "metadata": {
        "id": "WKS3qYIhFBfu"
      },
      "execution_count": 49,
      "outputs": []
    },
    {
      "cell_type": "code",
      "source": [
        "J = cofi_cost_func(X, W, b, Y, R, 1.6);\n",
        "print(f\"Cost: {J:0.2f}\")   #we are getting big cost function need to do normalize the data"
      ],
      "metadata": {
        "colab": {
          "base_uri": "https://localhost:8080/"
        },
        "id": "VamM4zFDFBkB",
        "outputId": "d4c1161b-0e10-45e0-cbe4-bfee3a884e4a"
      },
      "execution_count": 45,
      "outputs": [
        {
          "output_type": "stream",
          "name": "stdout",
          "text": [
            "Cost: 308883.78\n"
          ]
        }
      ]
    },
    {
      "cell_type": "markdown",
      "source": [
        "#using Tensorflow (vector implementaion)\n",
        "we have to tun w-alphha d/dw...to reduce loss for that here we are using adam\n",
        "1. implement cost function (vectiorized) for faster caliculation\n",
        "\n",
        "2.find mean , norm\n",
        "\n",
        "3.apply adams algorithm but before doung that we have to make as variable which values we are updating (means taking that value and passing again)..here for w,x,b\n",
        "\n",
        "4.automatically dervative term will be generated and do calicuation by using GradientTape\n",
        "\n",
        "5.pass the cost_value withn ynorm\n",
        "\n",
        "6.pick values and again send to ptimizer do few iterations\n",
        "\n"
      ],
      "metadata": {
        "id": "50GfArDLNvjj"
      }
    },
    {
      "cell_type": "code",
      "source": [
        "def cofi_cost_func_v(X, W, b, Y, R, lambda_):\n",
        "  j = (tf.linalg.matmul(X, tf.transpose(W)) + b - Y)*R\n",
        "  J = 0.5 * tf.reduce_sum(j**2) + (lambda_/2) * (tf.reduce_sum(X**2) + tf.reduce_sum(W**2))\n",
        "  return J"
      ],
      "metadata": {
        "id": "FmkbC-0wN0AK"
      },
      "execution_count": 46,
      "outputs": []
    },
    {
      "cell_type": "code",
      "source": [
        "J = cofi_cost_func_v(X, W, b, Y, R, 1.6);\n",
        "print(f\"Cost: {J:0.2f}\")"
      ],
      "metadata": {
        "colab": {
          "base_uri": "https://localhost:8080/"
        },
        "id": "yAOiyuI_PDXW",
        "outputId": "6a8eb6ac-4cb4-40a6-d600-ec53539dcc03"
      },
      "execution_count": 47,
      "outputs": [
        {
          "output_type": "stream",
          "name": "stdout",
          "text": [
            "Cost: 308883.78\n"
          ]
        }
      ]
    },
    {
      "cell_type": "markdown",
      "source": [
        "optimizer/normalization"
      ],
      "metadata": {
        "id": "vmzAJ_9uRJ3c"
      }
    },
    {
      "cell_type": "code",
      "source": [
        "Ymean =  (np.sum(Y * R , axis =1)/(np.sum( R , axis =1)+1e-12)).reshape(-1,1)   # doinf sum for only gicen rating /total rating\n",
        "Ynorm = Y - np.multiply(Ymean, R)\n",
        "\n",
        "#for training model find derivative terms of X,W,B VALUES\n",
        "num_movies, num_users = Y.shape\n",
        "num_features = 100\n",
        "\n",
        "tf.random.set_seed(1234)\n",
        "W = tf.Variable(tf.random.normal((num_users,  num_features),dtype=tf.float64),  name='W')\n",
        "X = tf.Variable(tf.random.normal((num_movies, num_features),dtype=tf.float64),  name='X')\n",
        "b = tf.Variable(tf.random.normal((1,          num_users),   dtype=tf.float64),  name='b')\n",
        "\n",
        "optimizer = keras.optimizers.Adam(learning_rate=1e-1)"
      ],
      "metadata": {
        "id": "QOU_9g-vN0Oc"
      },
      "execution_count": 54,
      "outputs": []
    },
    {
      "cell_type": "code",
      "source": [
        "iterations = 200\n",
        "lambda_ = 1\n",
        "for iter in range(iterations):   #calicualte cost\n",
        "  with tf.GradientTape() as tape :\n",
        "    cost_value =cofi_cost_func_v(X, W, b, Ynorm, R, lambda_)\n",
        "  grads = tape.gradient(cost_value,[X,W,b]) #pick gradient descents of each step\n",
        "  optimizer.apply_gradients(zip(grads,[X,W,b])) # and send again descents to minimize the loss\n",
        "\n",
        "  # Log periodically.\n",
        "  if iter % 20 == 0:\n",
        "       print(f\"Training loss at iteration {iter}: {cost_value:0.1f}\")\n",
        "\n",
        "\n"
      ],
      "metadata": {
        "colab": {
          "base_uri": "https://localhost:8080/"
        },
        "id": "EYaHraZnN0Se",
        "outputId": "60b66cc3-cb7b-4cec-ef44-9c37ab3d2bc6"
      },
      "execution_count": 56,
      "outputs": [
        {
          "output_type": "stream",
          "name": "stdout",
          "text": [
            "Training loss at iteration 0: 2287998.9\n",
            "Training loss at iteration 20: 132726.4\n",
            "Training loss at iteration 40: 49977.3\n",
            "Training loss at iteration 60: 23645.4\n",
            "Training loss at iteration 80: 13123.3\n",
            "Training loss at iteration 100: 8205.2\n",
            "Training loss at iteration 120: 5642.8\n",
            "Training loss at iteration 140: 4209.9\n",
            "Training loss at iteration 160: 3368.3\n",
            "Training loss at iteration 180: 2854.8\n"
          ]
        }
      ]
    },
    {
      "cell_type": "code",
      "source": [
        "def load_Movie_List_pd():\n",
        "    \"\"\" returns df with and index of movies in the order they are in in the Y matrix \"\"\"\n",
        "    df = pd.read_csv('/content/drive/MyDrive/Move_recomendation/small_movie_list.csv', header=0, index_col=0,  delimiter=',', quotechar='\"')\n",
        "    mlist = df[\"title\"].to_list()\n",
        "    return(mlist, df)"
      ],
      "metadata": {
        "id": "hudaQ4KzWVUj"
      },
      "execution_count": 62,
      "outputs": []
    },
    {
      "cell_type": "code",
      "source": [
        "movieList, movieList_df = load_Movie_List_pd()\n",
        "filter=(movieList_df[\"number of ratings\"] > 20)\n",
        "movieList_df[\"pred\"] = my_prediction\n",
        "movieList_df = movieList_df.reindex(columns=[\"pred\", \"mean rating\", \"number of ratings\", \"title\"])\n",
        "movieList_df.loc[ix[:300]].loc[filter].sort_values(\"mean rating\", ascending=False)"
      ],
      "metadata": {
        "colab": {
          "base_uri": "https://localhost:8080/",
          "height": 112
        },
        "id": "KMQ5wlNaT2V2",
        "outputId": "4a00da2e-f799-4d2c-9dd2-13396b19f0f6"
      },
      "execution_count": 63,
      "outputs": [
        {
          "output_type": "execute_result",
          "data": {
            "text/plain": [
              "          pred  mean rating  number of ratings                title\n",
              "2173  5.531714     4.057692                104        WALL·E (2008)\n",
              "3618  5.637669     3.993151                 73  Interstellar (2014)"
            ],
            "text/html": [
              "\n",
              "  <div id=\"df-1bbbde59-d01a-4856-a2b9-cb5ca0aef55c\" class=\"colab-df-container\">\n",
              "    <div>\n",
              "<style scoped>\n",
              "    .dataframe tbody tr th:only-of-type {\n",
              "        vertical-align: middle;\n",
              "    }\n",
              "\n",
              "    .dataframe tbody tr th {\n",
              "        vertical-align: top;\n",
              "    }\n",
              "\n",
              "    .dataframe thead th {\n",
              "        text-align: right;\n",
              "    }\n",
              "</style>\n",
              "<table border=\"1\" class=\"dataframe\">\n",
              "  <thead>\n",
              "    <tr style=\"text-align: right;\">\n",
              "      <th></th>\n",
              "      <th>pred</th>\n",
              "      <th>mean rating</th>\n",
              "      <th>number of ratings</th>\n",
              "      <th>title</th>\n",
              "    </tr>\n",
              "  </thead>\n",
              "  <tbody>\n",
              "    <tr>\n",
              "      <th>2173</th>\n",
              "      <td>5.531714</td>\n",
              "      <td>4.057692</td>\n",
              "      <td>104</td>\n",
              "      <td>WALL·E (2008)</td>\n",
              "    </tr>\n",
              "    <tr>\n",
              "      <th>3618</th>\n",
              "      <td>5.637669</td>\n",
              "      <td>3.993151</td>\n",
              "      <td>73</td>\n",
              "      <td>Interstellar (2014)</td>\n",
              "    </tr>\n",
              "  </tbody>\n",
              "</table>\n",
              "</div>\n",
              "    <div class=\"colab-df-buttons\">\n",
              "\n",
              "  <div class=\"colab-df-container\">\n",
              "    <button class=\"colab-df-convert\" onclick=\"convertToInteractive('df-1bbbde59-d01a-4856-a2b9-cb5ca0aef55c')\"\n",
              "            title=\"Convert this dataframe to an interactive table.\"\n",
              "            style=\"display:none;\">\n",
              "\n",
              "  <svg xmlns=\"http://www.w3.org/2000/svg\" height=\"24px\" viewBox=\"0 -960 960 960\">\n",
              "    <path d=\"M120-120v-720h720v720H120Zm60-500h600v-160H180v160Zm220 220h160v-160H400v160Zm0 220h160v-160H400v160ZM180-400h160v-160H180v160Zm440 0h160v-160H620v160ZM180-180h160v-160H180v160Zm440 0h160v-160H620v160Z\"/>\n",
              "  </svg>\n",
              "    </button>\n",
              "\n",
              "  <style>\n",
              "    .colab-df-container {\n",
              "      display:flex;\n",
              "      gap: 12px;\n",
              "    }\n",
              "\n",
              "    .colab-df-convert {\n",
              "      background-color: #E8F0FE;\n",
              "      border: none;\n",
              "      border-radius: 50%;\n",
              "      cursor: pointer;\n",
              "      display: none;\n",
              "      fill: #1967D2;\n",
              "      height: 32px;\n",
              "      padding: 0 0 0 0;\n",
              "      width: 32px;\n",
              "    }\n",
              "\n",
              "    .colab-df-convert:hover {\n",
              "      background-color: #E2EBFA;\n",
              "      box-shadow: 0px 1px 2px rgba(60, 64, 67, 0.3), 0px 1px 3px 1px rgba(60, 64, 67, 0.15);\n",
              "      fill: #174EA6;\n",
              "    }\n",
              "\n",
              "    .colab-df-buttons div {\n",
              "      margin-bottom: 4px;\n",
              "    }\n",
              "\n",
              "    [theme=dark] .colab-df-convert {\n",
              "      background-color: #3B4455;\n",
              "      fill: #D2E3FC;\n",
              "    }\n",
              "\n",
              "    [theme=dark] .colab-df-convert:hover {\n",
              "      background-color: #434B5C;\n",
              "      box-shadow: 0px 1px 3px 1px rgba(0, 0, 0, 0.15);\n",
              "      filter: drop-shadow(0px 1px 2px rgba(0, 0, 0, 0.3));\n",
              "      fill: #FFFFFF;\n",
              "    }\n",
              "  </style>\n",
              "\n",
              "    <script>\n",
              "      const buttonEl =\n",
              "        document.querySelector('#df-1bbbde59-d01a-4856-a2b9-cb5ca0aef55c button.colab-df-convert');\n",
              "      buttonEl.style.display =\n",
              "        google.colab.kernel.accessAllowed ? 'block' : 'none';\n",
              "\n",
              "      async function convertToInteractive(key) {\n",
              "        const element = document.querySelector('#df-1bbbde59-d01a-4856-a2b9-cb5ca0aef55c');\n",
              "        const dataTable =\n",
              "          await google.colab.kernel.invokeFunction('convertToInteractive',\n",
              "                                                    [key], {});\n",
              "        if (!dataTable) return;\n",
              "\n",
              "        const docLinkHtml = 'Like what you see? Visit the ' +\n",
              "          '<a target=\"_blank\" href=https://colab.research.google.com/notebooks/data_table.ipynb>data table notebook</a>'\n",
              "          + ' to learn more about interactive tables.';\n",
              "        element.innerHTML = '';\n",
              "        dataTable['output_type'] = 'display_data';\n",
              "        await google.colab.output.renderOutput(dataTable, element);\n",
              "        const docLink = document.createElement('div');\n",
              "        docLink.innerHTML = docLinkHtml;\n",
              "        element.appendChild(docLink);\n",
              "      }\n",
              "    </script>\n",
              "  </div>\n",
              "\n",
              "\n",
              "<div id=\"df-a884c616-2a9a-4e41-b4d5-1a3d8c80a3af\">\n",
              "  <button class=\"colab-df-quickchart\" onclick=\"quickchart('df-a884c616-2a9a-4e41-b4d5-1a3d8c80a3af')\"\n",
              "            title=\"Suggest charts\"\n",
              "            style=\"display:none;\">\n",
              "\n",
              "<svg xmlns=\"http://www.w3.org/2000/svg\" height=\"24px\"viewBox=\"0 0 24 24\"\n",
              "     width=\"24px\">\n",
              "    <g>\n",
              "        <path d=\"M19 3H5c-1.1 0-2 .9-2 2v14c0 1.1.9 2 2 2h14c1.1 0 2-.9 2-2V5c0-1.1-.9-2-2-2zM9 17H7v-7h2v7zm4 0h-2V7h2v10zm4 0h-2v-4h2v4z\"/>\n",
              "    </g>\n",
              "</svg>\n",
              "  </button>\n",
              "\n",
              "<style>\n",
              "  .colab-df-quickchart {\n",
              "      --bg-color: #E8F0FE;\n",
              "      --fill-color: #1967D2;\n",
              "      --hover-bg-color: #E2EBFA;\n",
              "      --hover-fill-color: #174EA6;\n",
              "      --disabled-fill-color: #AAA;\n",
              "      --disabled-bg-color: #DDD;\n",
              "  }\n",
              "\n",
              "  [theme=dark] .colab-df-quickchart {\n",
              "      --bg-color: #3B4455;\n",
              "      --fill-color: #D2E3FC;\n",
              "      --hover-bg-color: #434B5C;\n",
              "      --hover-fill-color: #FFFFFF;\n",
              "      --disabled-bg-color: #3B4455;\n",
              "      --disabled-fill-color: #666;\n",
              "  }\n",
              "\n",
              "  .colab-df-quickchart {\n",
              "    background-color: var(--bg-color);\n",
              "    border: none;\n",
              "    border-radius: 50%;\n",
              "    cursor: pointer;\n",
              "    display: none;\n",
              "    fill: var(--fill-color);\n",
              "    height: 32px;\n",
              "    padding: 0;\n",
              "    width: 32px;\n",
              "  }\n",
              "\n",
              "  .colab-df-quickchart:hover {\n",
              "    background-color: var(--hover-bg-color);\n",
              "    box-shadow: 0 1px 2px rgba(60, 64, 67, 0.3), 0 1px 3px 1px rgba(60, 64, 67, 0.15);\n",
              "    fill: var(--button-hover-fill-color);\n",
              "  }\n",
              "\n",
              "  .colab-df-quickchart-complete:disabled,\n",
              "  .colab-df-quickchart-complete:disabled:hover {\n",
              "    background-color: var(--disabled-bg-color);\n",
              "    fill: var(--disabled-fill-color);\n",
              "    box-shadow: none;\n",
              "  }\n",
              "\n",
              "  .colab-df-spinner {\n",
              "    border: 2px solid var(--fill-color);\n",
              "    border-color: transparent;\n",
              "    border-bottom-color: var(--fill-color);\n",
              "    animation:\n",
              "      spin 1s steps(1) infinite;\n",
              "  }\n",
              "\n",
              "  @keyframes spin {\n",
              "    0% {\n",
              "      border-color: transparent;\n",
              "      border-bottom-color: var(--fill-color);\n",
              "      border-left-color: var(--fill-color);\n",
              "    }\n",
              "    20% {\n",
              "      border-color: transparent;\n",
              "      border-left-color: var(--fill-color);\n",
              "      border-top-color: var(--fill-color);\n",
              "    }\n",
              "    30% {\n",
              "      border-color: transparent;\n",
              "      border-left-color: var(--fill-color);\n",
              "      border-top-color: var(--fill-color);\n",
              "      border-right-color: var(--fill-color);\n",
              "    }\n",
              "    40% {\n",
              "      border-color: transparent;\n",
              "      border-right-color: var(--fill-color);\n",
              "      border-top-color: var(--fill-color);\n",
              "    }\n",
              "    60% {\n",
              "      border-color: transparent;\n",
              "      border-right-color: var(--fill-color);\n",
              "    }\n",
              "    80% {\n",
              "      border-color: transparent;\n",
              "      border-right-color: var(--fill-color);\n",
              "      border-bottom-color: var(--fill-color);\n",
              "    }\n",
              "    90% {\n",
              "      border-color: transparent;\n",
              "      border-bottom-color: var(--fill-color);\n",
              "    }\n",
              "  }\n",
              "</style>\n",
              "\n",
              "  <script>\n",
              "    async function quickchart(key) {\n",
              "      const quickchartButtonEl =\n",
              "        document.querySelector('#' + key + ' button');\n",
              "      quickchartButtonEl.disabled = true;  // To prevent multiple clicks.\n",
              "      quickchartButtonEl.classList.add('colab-df-spinner');\n",
              "      try {\n",
              "        const charts = await google.colab.kernel.invokeFunction(\n",
              "            'suggestCharts', [key], {});\n",
              "      } catch (error) {\n",
              "        console.error('Error during call to suggestCharts:', error);\n",
              "      }\n",
              "      quickchartButtonEl.classList.remove('colab-df-spinner');\n",
              "      quickchartButtonEl.classList.add('colab-df-quickchart-complete');\n",
              "    }\n",
              "    (() => {\n",
              "      let quickchartButtonEl =\n",
              "        document.querySelector('#df-a884c616-2a9a-4e41-b4d5-1a3d8c80a3af button');\n",
              "      quickchartButtonEl.style.display =\n",
              "        google.colab.kernel.accessAllowed ? 'block' : 'none';\n",
              "    })();\n",
              "  </script>\n",
              "</div>\n",
              "\n",
              "    </div>\n",
              "  </div>\n"
            ],
            "application/vnd.google.colaboratory.intrinsic+json": {
              "type": "dataframe",
              "summary": "{\n  \"name\": \"movieList_df\",\n  \"rows\": 2,\n  \"fields\": [\n    {\n      \"column\": \"pred\",\n      \"properties\": {\n        \"dtype\": \"number\",\n        \"std\": 0.07492137305246475,\n        \"min\": 5.531714026177992,\n        \"max\": 5.637668848060402,\n        \"num_unique_values\": 2,\n        \"samples\": [\n          5.637668848060402,\n          5.531714026177992\n        ],\n        \"semantic_type\": \"\",\n        \"description\": \"\"\n      }\n    },\n    {\n      \"column\": \"mean rating\",\n      \"properties\": {\n        \"dtype\": \"number\",\n        \"std\": 0.04563781912294664,\n        \"min\": 3.993150684931507,\n        \"max\": 4.057692307692308,\n        \"num_unique_values\": 2,\n        \"samples\": [\n          3.993150684931507,\n          4.057692307692308\n        ],\n        \"semantic_type\": \"\",\n        \"description\": \"\"\n      }\n    },\n    {\n      \"column\": \"number of ratings\",\n      \"properties\": {\n        \"dtype\": \"number\",\n        \"std\": 21,\n        \"min\": 73,\n        \"max\": 104,\n        \"num_unique_values\": 2,\n        \"samples\": [\n          73,\n          104\n        ],\n        \"semantic_type\": \"\",\n        \"description\": \"\"\n      }\n    },\n    {\n      \"column\": \"title\",\n      \"properties\": {\n        \"dtype\": \"string\",\n        \"num_unique_values\": 2,\n        \"samples\": [\n          \"Interstellar (2014)\",\n          \"WALL\\u00b7E (2008)\"\n        ],\n        \"semantic_type\": \"\",\n        \"description\": \"\"\n      }\n    }\n  ]\n}"
            }
          },
          "metadata": {},
          "execution_count": 63
        }
      ]
    },
    {
      "cell_type": "code",
      "source": [],
      "metadata": {
        "id": "mRQ4f4OkWK7w"
      },
      "execution_count": null,
      "outputs": []
    }
  ]
}